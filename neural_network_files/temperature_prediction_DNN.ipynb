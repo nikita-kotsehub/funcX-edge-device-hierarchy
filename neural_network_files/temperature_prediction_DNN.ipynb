{
 "cells": [
  {
   "cell_type": "code",
   "execution_count": 1,
   "id": "979e95fc",
   "metadata": {},
   "outputs": [],
   "source": [
    "import tensorflow as tf\n",
    "import numpy as np\n",
    "import matplotlib.pyplot as plt"
   ]
  },
  {
   "cell_type": "markdown",
   "id": "5599e4c1",
   "metadata": {},
   "source": [
    "# Define Data Set, Train & Save the Model"
   ]
  },
  {
   "cell_type": "code",
   "execution_count": 2,
   "id": "aa9452d5",
   "metadata": {},
   "outputs": [],
   "source": [
    "def pattern(array):\n",
    "    '''\n",
    "    Takes an array with two temperature measurements. Returns the predicted next temperature using a naive formula 2y - x.\n",
    "    \n",
    "    E.g. if the time series is [21, 23], we would expect the next temperature to be 25.\n",
    "    '''\n",
    "    return array[1] - array[0] + array[1]"
   ]
  },
  {
   "cell_type": "code",
   "execution_count": 3,
   "id": "616dccce",
   "metadata": {},
   "outputs": [
    {
     "data": {
      "text/plain": [
       "25"
      ]
     },
     "execution_count": 3,
     "metadata": {},
     "output_type": "execute_result"
    }
   ],
   "source": [
    "pattern([21, 23])"
   ]
  },
  {
   "cell_type": "code",
   "execution_count": 113,
   "id": "5ec21799",
   "metadata": {},
   "outputs": [],
   "source": [
    "# Data set\n",
    "two_previous_temps = np.array([[1, 7], [7, 9], [21.1, 21.5], [21, 23],\n",
    "                               [35, 37], [41.2, 41.8], [31.01, 31.04], [28, 38],\n",
    "                               [101, 109] , [1.59, 2.61], [31.15028, 31.19357], [45.4325, 53.5832]],  dtype=float)\n",
    "\n",
    "next_temp = np.array([[13], [11], [21.9], [25],\n",
    "                      [39], [42.4], [31.07], [48],\n",
    "                      [117], [3.63], [31.23686], [61.7339]],  dtype=float)\n"
   ]
  },
  {
   "cell_type": "code",
   "execution_count": 114,
   "id": "4697f7ed",
   "metadata": {},
   "outputs": [
    {
     "name": "stdout",
     "output_type": "stream",
     "text": [
      "Finished training the model\n",
      "[[24.999996]]\n"
     ]
    },
    {
     "data": {
      "image/png": "[encoded data removed]",
      "text/plain": [
       "<Figure size 432x288 with 1 Axes>"
      ]
     },
     "metadata": {
      "needs_background": "light"
     },
     "output_type": "display_data"
    }
   ],
   "source": [
    "# Define the model\n",
    "model = tf.keras.Sequential([\n",
    "  tf.keras.layers.Dense(units=1, input_shape=[2])\n",
    "])\n",
    "\n",
    "# Compile it\n",
    "model.compile(loss='mean_squared_error',\n",
    "              optimizer=tf.keras.optimizers.Adam(0.1))\n",
    "\n",
    "# Train it\n",
    "history = model.fit(two_previous_temps, next_temp, epochs=5000, verbose=False)\n",
    "print(\"Finished training the model\")\n",
    "\n",
    "# Test it\n",
    "plt.xlabel('Epoch Number')\n",
    "plt.ylabel(\"Loss Magnitude\")\n",
    "plt.plot(history.history['loss'])\n",
    "\n",
    "print(model.predict([[21, 23]]))"
   ]
  },
  {
   "cell_type": "code",
   "execution_count": null,
   "id": "99add1b2",
   "metadata": {},
   "outputs": [],
   "source": [
    "# Convert the model.\n",
    "converter = tf.lite.TFLiteConverter.from_keras_model(model)\n",
    "tflite_model = converter.convert()\n",
    "\n",
    "# Save the model as .tflite.\n",
    "with open('temp_model01.tflite', 'wb') as f:\n",
    "    f.write(tflite_model)"
   ]
  },
  {
   "cell_type": "markdown",
   "id": "4e09e97b",
   "metadata": {},
   "source": [
    "# Exporting the weights\n",
    "\n",
    "You can export the model weights as they are, or you can quantize it to .tflite, and then use [Netron](https://netron.app/) to export the weights. However, note that upon importing the weights from Netron, you need to transform them as for some reason they are flipped. You can do it with numpy's `.T`.\n",
    "\n",
    "I could not find a more streamlined approach for exporting `.tflite` weights. You can contribute by providing the method."
   ]
  },
  {
   "cell_type": "markdown",
   "id": "f0ca42b3",
   "metadata": {},
   "source": [
    "# Load NPY and export as TXT"
   ]
  },
  {
   "cell_type": "markdown",
   "id": "eae549ad",
   "metadata": {},
   "source": [
    "At the moment, CircuitPython's ulab does not have a function for reading .npy files, so instead I saved the weights as .txt."
   ]
  },
  {
   "cell_type": "code",
   "execution_count": 116,
   "id": "57df79fc",
   "metadata": {},
   "outputs": [],
   "source": [
    "def save_weights(weight, filename):\n",
    "    np.savetxt(filename, weight, delimiter=',', fmt='%s')"
   ]
  },
  {
   "cell_type": "code",
   "execution_count": 117,
   "id": "36f1a904",
   "metadata": {},
   "outputs": [],
   "source": [
    "w1 = np.load('w1_temp.npy')\n",
    "b1 = np.load('b1_temp.npy')\n",
    "\n",
    "w1 = w1.T\n",
    "b1 = b1.T\n",
    "\n",
    "save_weights(w1, 'w1_temp.txt')\n",
    "save_weights(b1, 'b1_temp.txt')"
   ]
  },
  {
   "cell_type": "markdown",
   "id": "af0e18e6",
   "metadata": {},
   "source": [
    "# Load TXT (practicing for Nano RP2040)"
   ]
  },
  {
   "cell_type": "markdown",
   "id": "56cc537b",
   "metadata": {},
   "source": [
    "The following sections are redundant and were used to practice importing weights and running manual inference before doing it with CircuitPython on Nano RP2040"
   ]
  },
  {
   "cell_type": "code",
   "execution_count": 118,
   "id": "40b09964",
   "metadata": {},
   "outputs": [],
   "source": [
    "with open('w1_temp.txt', 'r') as f:\n",
    "    a1 = [float(f.readline())]\n",
    "    a2 = [float(f.readline())]\n",
    "    w1_loaded = np.array([a1, a2])"
   ]
  },
  {
   "cell_type": "code",
   "execution_count": 119,
   "id": "02de9bfb",
   "metadata": {},
   "outputs": [],
   "source": [
    "with open('b1_temp.txt', 'r') as f:\n",
    "    a1 = [float(f.readline())]\n",
    "    b1_loaded = np.array(a1)"
   ]
  },
  {
   "cell_type": "markdown",
   "id": "6293e513",
   "metadata": {},
   "source": [
    "# Manual Prediction  (practicing for Nano RP2040)"
   ]
  },
  {
   "cell_type": "code",
   "execution_count": 120,
   "id": "9d04fb90",
   "metadata": {},
   "outputs": [
    {
     "name": "stdout",
     "output_type": "stream",
     "text": [
      "[[29.99999614]]\n"
     ]
    }
   ],
   "source": [
    "target_data = [[10, 20]]\n",
    "\n",
    "# 1st dense layer with Relu activation\n",
    "prediction=np.dot(target_data, w1_loaded) + b1_loaded\n",
    "print(prediction)"
   ]
  }
 ],
 "metadata": {
  "kernelspec": {
   "display_name": "Python 3",
   "language": "python",
   "name": "python3"
  },
  "language_info": {
   "codemirror_mode": {
    "name": "ipython",
    "version": 3
   },
   "file_extension": ".py",
   "mimetype": "text/x-python",
   "name": "python",
   "nbconvert_exporter": "python",
   "pygments_lexer": "ipython3",
   "version": "3.7.3"
  }
 },
 "nbformat": 4,
 "nbformat_minor": 5
}
